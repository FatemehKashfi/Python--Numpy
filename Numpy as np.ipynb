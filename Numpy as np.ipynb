{
 "cells": [
  {
   "cell_type": "markdown",
   "id": "8f90fe44-dd2d-452c-834c-80f0ecc649cf",
   "metadata": {},
   "source": [
    "<div> \n",
    "<h1> NumPy </h1>\n",
    "<a href=\"https://numpy.org\">Visit the Source Website</a>\n",
    "</div>"
   ]
  },
  {
   "cell_type": "markdown",
   "id": "81cdf429-a540-40f0-8057-b898dd2cf5fd",
   "metadata": {},
   "source": [
    "<h4> NumPy (Numerical Python) is an open source Python library that’s widely used in science and engineering. The NumPy library contains multidimensional array data structures, such as the homogeneous, N-dimensional ndarray, and a large library of functions that operate efficiently on these data structures\n",
    "</h4>"
   ]
  },
  {
   "cell_type": "code",
   "execution_count": 6,
   "id": "89223dc9-5f15-4361-ba60-38a64bbd9f25",
   "metadata": {},
   "outputs": [],
   "source": [
    "import numpy as np"
   ]
  },
  {
   "cell_type": "markdown",
   "id": "9eceb212-5207-475c-8750-7a46da06c7a0",
   "metadata": {},
   "source": [
    "<h4> one dimension array: </h4>"
   ]
  },
  {
   "cell_type": "code",
   "execution_count": 8,
   "id": "7fd979df-0e78-429a-a2c0-fa6856b6a9f2",
   "metadata": {},
   "outputs": [
    {
     "data": {
      "text/plain": [
       "array([1, 2, 3, 4, 5, 6])"
      ]
     },
     "execution_count": 8,
     "metadata": {},
     "output_type": "execute_result"
    }
   ],
   "source": [
    "a = np.array([1, 2, 3, 4, 5, 6])\n",
    "a"
   ]
  },
  {
   "cell_type": "markdown",
   "id": "f845af45-4037-4367-b3bd-0e69d7b58456",
   "metadata": {},
   "source": [
    "<h4> To access an individual element, use the integer index of the element within square brackets. </h4>"
   ]
  },
  {
   "cell_type": "code",
   "execution_count": 15,
   "id": "e0724266-2f75-4cbb-9575-b54c3f397594",
   "metadata": {},
   "outputs": [
    {
     "data": {
      "text/plain": [
       "1"
      ]
     },
     "execution_count": 15,
     "metadata": {},
     "output_type": "execute_result"
    }
   ],
   "source": [
    "a[0]"
   ]
  },
  {
   "cell_type": "code",
   "execution_count": 25,
   "id": "8fc9d1d4-2ef4-4e84-9eac-3a2717873a00",
   "metadata": {},
   "outputs": [
    {
     "data": {
      "text/plain": [
       "array([1, 2, 3])"
      ]
     },
     "execution_count": 25,
     "metadata": {},
     "output_type": "execute_result"
    }
   ],
   "source": [
    "a[:3]"
   ]
  },
  {
   "cell_type": "code",
   "execution_count": 27,
   "id": "fdaf443e-e16e-4a38-a4bd-38ece3c87ee1",
   "metadata": {},
   "outputs": [
    {
     "data": {
      "text/plain": [
       "array([3, 4, 5, 6])"
      ]
     },
     "execution_count": 27,
     "metadata": {},
     "output_type": "execute_result"
    }
   ],
   "source": [
    "a[2:]"
   ]
  },
  {
   "cell_type": "markdown",
   "id": "c4afea2d-3a6b-4007-a023-24f2af7279b7",
   "metadata": {},
   "source": [
    "<h4> Two- and higher-dimensional arrays: </h4>"
   ]
  },
  {
   "cell_type": "code",
   "execution_count": 38,
   "id": "958f4f34-52db-44cc-8873-21ac27fb2e28",
   "metadata": {},
   "outputs": [
    {
     "data": {
      "text/plain": [
       "array([[ 1,  2,  3,  4],\n",
       "       [ 5,  6,  7,  8],\n",
       "       [ 9, 10, 11, 12]])"
      ]
     },
     "execution_count": 38,
     "metadata": {},
     "output_type": "execute_result"
    }
   ],
   "source": [
    "a = np.array([[1, 2, 3, 4], [5, 6, 7, 8], [9, 10, 11, 12]])\n",
    "a"
   ]
  },
  {
   "cell_type": "markdown",
   "id": "fcadb679-39b9-41b6-8e92-b33524e1fa3d",
   "metadata": {},
   "source": [
    "<h4> In NumPy, a dimension of an array is sometimes referred to as an “axis” </h4>"
   ]
  },
  {
   "cell_type": "markdown",
   "id": "79b597d4-a7a2-40b5-9f96-57d469024bef",
   "metadata": {},
   "source": [
    "<h2> Array attributes</h2>"
   ]
  },
  {
   "cell_type": "code",
   "execution_count": 58,
   "id": "db48f034-e701-4a00-bf73-a40b7209d8dc",
   "metadata": {},
   "outputs": [
    {
     "data": {
      "text/plain": [
       "2"
      ]
     },
     "execution_count": 58,
     "metadata": {},
     "output_type": "execute_result"
    }
   ],
   "source": [
    "a.ndim"
   ]
  },
  {
   "cell_type": "code",
   "execution_count": 60,
   "id": "10c1e86a-0c22-49a4-91cd-8eadb0633d0f",
   "metadata": {},
   "outputs": [
    {
     "data": {
      "text/plain": [
       "(3, 4)"
      ]
     },
     "execution_count": 60,
     "metadata": {},
     "output_type": "execute_result"
    }
   ],
   "source": [
    "a.shape"
   ]
  },
  {
   "cell_type": "code",
   "execution_count": 67,
   "id": "cc71bdec-03c8-4878-9801-29cd2b78c027",
   "metadata": {},
   "outputs": [
    {
     "data": {
      "text/plain": [
       "True"
      ]
     },
     "execution_count": 67,
     "metadata": {},
     "output_type": "execute_result"
    }
   ],
   "source": [
    "len(a.shape) == a.ndim"
   ]
  },
  {
   "cell_type": "code",
   "execution_count": 69,
   "id": "7d9cb8ce-3871-4eaf-87d8-0410dc549920",
   "metadata": {},
   "outputs": [
    {
     "data": {
      "text/plain": [
       "12"
      ]
     },
     "execution_count": 69,
     "metadata": {},
     "output_type": "execute_result"
    }
   ],
   "source": [
    "a.size"
   ]
  },
  {
   "cell_type": "code",
   "execution_count": 71,
   "id": "60cbae02-6998-41e3-ab38-ce7bf303d473",
   "metadata": {},
   "outputs": [
    {
     "data": {
      "text/plain": [
       "dtype('int32')"
      ]
     },
     "execution_count": 71,
     "metadata": {},
     "output_type": "execute_result"
    }
   ],
   "source": [
    "a.dtype"
   ]
  },
  {
   "cell_type": "markdown",
   "id": "c237d5c4-b0cd-4724-8d7b-078a325de26b",
   "metadata": {},
   "source": [
    "<h2> How to create a basic array </h2>"
   ]
  },
  {
   "cell_type": "code",
   "execution_count": 91,
   "id": "c1555824-fb6b-4dd9-b0fc-3e4980d08ff3",
   "metadata": {},
   "outputs": [
    {
     "data": {
      "text/plain": [
       "array([0., 0., 0., 0.])"
      ]
     },
     "execution_count": 91,
     "metadata": {},
     "output_type": "execute_result"
    }
   ],
   "source": [
    "np.zeros(4)"
   ]
  },
  {
   "cell_type": "code",
   "execution_count": 93,
   "id": "4048482a-3ab8-4b37-828f-5aeb279d6488",
   "metadata": {},
   "outputs": [
    {
     "data": {
      "text/plain": [
       "array([[0., 0.],\n",
       "       [0., 0.],\n",
       "       [0., 0.],\n",
       "       [0., 0.]])"
      ]
     },
     "execution_count": 93,
     "metadata": {},
     "output_type": "execute_result"
    }
   ],
   "source": [
    "np.zeros([4,2])"
   ]
  },
  {
   "cell_type": "code",
   "execution_count": 95,
   "id": "35f2190a-ad53-4096-9e04-84a3ba1ac25f",
   "metadata": {},
   "outputs": [
    {
     "data": {
      "text/plain": [
       "array([1., 1., 1.])"
      ]
     },
     "execution_count": 95,
     "metadata": {},
     "output_type": "execute_result"
    }
   ],
   "source": [
    "np.ones(3)"
   ]
  },
  {
   "cell_type": "code",
   "execution_count": 97,
   "id": "5aba3b51-a7c4-4476-975c-7c8283041865",
   "metadata": {},
   "outputs": [
    {
     "data": {
      "text/plain": [
       "array([4.24399158e-314, 8.48798317e-314])"
      ]
     },
     "execution_count": 97,
     "metadata": {},
     "output_type": "execute_result"
    }
   ],
   "source": [
    "np.empty(2)"
   ]
  },
  {
   "cell_type": "code",
   "execution_count": 109,
   "id": "a3c5960c-7e5c-446c-9ba2-fef5be0fd4d5",
   "metadata": {},
   "outputs": [
    {
     "data": {
      "text/plain": [
       "array([0, 1, 2, 3, 4, 5])"
      ]
     },
     "execution_count": 109,
     "metadata": {},
     "output_type": "execute_result"
    }
   ],
   "source": [
    "np.arange(6)"
   ]
  },
  {
   "cell_type": "code",
   "execution_count": 113,
   "id": "e02cf2b9-1e4d-4b3c-ad02-ab4dda5807a0",
   "metadata": {},
   "outputs": [
    {
     "data": {
      "text/plain": [
       "array([ 5,  8, 11, 14])"
      ]
     },
     "execution_count": 113,
     "metadata": {},
     "output_type": "execute_result"
    }
   ],
   "source": [
    "np.arange(5, 15, 3)"
   ]
  },
  {
   "cell_type": "code",
   "execution_count": 121,
   "id": "75faf420-2e00-4848-a44b-f1bcfba1535a",
   "metadata": {},
   "outputs": [
    {
     "data": {
      "text/plain": [
       "array([0.        , 0.55555556, 1.11111111, 1.66666667, 2.22222222,\n",
       "       2.77777778, 3.33333333, 3.88888889, 4.44444444, 5.        ])"
      ]
     },
     "execution_count": 121,
     "metadata": {},
     "output_type": "execute_result"
    }
   ],
   "source": [
    "np.linspace(0,5,num = 10)"
   ]
  },
  {
   "cell_type": "code",
   "execution_count": 125,
   "id": "34e3bfc2-5e4a-47f9-bf51-46f7c7d24fa9",
   "metadata": {},
   "outputs": [
    {
     "data": {
      "text/plain": [
       "array([1, 1, 1, 1], dtype=int64)"
      ]
     },
     "execution_count": 125,
     "metadata": {},
     "output_type": "execute_result"
    }
   ],
   "source": [
    "x = np.ones(4, dtype=np.int64)\n",
    "x"
   ]
  },
  {
   "cell_type": "markdown",
   "id": "8711c50a-0236-4628-be11-0e990b94f51d",
   "metadata": {},
   "source": [
    "<h2> Adding, removing, and sorting elements </h2>"
   ]
  },
  {
   "cell_type": "code",
   "execution_count": 148,
   "id": "85f799f1-4202-4814-b7dd-97290a018960",
   "metadata": {},
   "outputs": [
    {
     "data": {
      "text/plain": [
       "array([1, 4, 5, 6, 7, 8, 9, 9])"
      ]
     },
     "execution_count": 148,
     "metadata": {},
     "output_type": "execute_result"
    }
   ],
   "source": [
    "x = np.array([9,4,5,1,6,7,8,9])\n",
    "np.sort(x)\n",
    "#which returns a sorted copy of an array"
   ]
  },
  {
   "cell_type": "code",
   "execution_count": 159,
   "id": "6f23b0fd-7318-4682-8a87-bb5068fa7049",
   "metadata": {},
   "outputs": [],
   "source": [
    " y = np.array([[6,2,4],\n",
    "              [5,2,8],\n",
    "              [7,3,4]])"
   ]
  },
  {
   "cell_type": "code",
   "execution_count": 162,
   "id": "264ae348-2d05-4cc2-b05b-d72d888bbf0e",
   "metadata": {},
   "outputs": [
    {
     "data": {
      "text/plain": [
       "array([2, 2, 3, 4, 4, 5, 6, 7, 8])"
      ]
     },
     "execution_count": 162,
     "metadata": {},
     "output_type": "execute_result"
    }
   ],
   "source": [
    "np.sort(y, axis=None)"
   ]
  },
  {
   "cell_type": "code",
   "execution_count": 164,
   "id": "5421fa8e-0920-47fb-be6d-9a8c43a9eba7",
   "metadata": {},
   "outputs": [
    {
     "data": {
      "text/plain": [
       "array([[2, 4, 6],\n",
       "       [2, 5, 8],\n",
       "       [3, 4, 7]])"
      ]
     },
     "execution_count": 164,
     "metadata": {},
     "output_type": "execute_result"
    }
   ],
   "source": [
    "np.sort(y, axis=1)"
   ]
  },
  {
   "cell_type": "code",
   "execution_count": 176,
   "id": "edc26021-abb2-453c-b053-4e9eed2be770",
   "metadata": {},
   "outputs": [
    {
     "data": {
      "text/plain": [
       "array([3, 5, 7, 8, 4, 6, 8, 9])"
      ]
     },
     "execution_count": 176,
     "metadata": {},
     "output_type": "execute_result"
    }
   ],
   "source": [
    "x = np.array([3,5,7,8])\n",
    "y = np.array([4,6,8,9])\n",
    "np.concatenate((x,y))"
   ]
  },
  {
   "cell_type": "markdown",
   "id": "1935ccab-c109-48f9-85fc-2b93563ac316",
   "metadata": {},
   "source": [
    "<h2> Reshaping & Transposing </h2>"
   ]
  },
  {
   "cell_type": "code",
   "execution_count": 386,
   "id": "112b415e-952b-41d7-9543-8594a8066a12",
   "metadata": {},
   "outputs": [
    {
     "data": {
      "text/plain": [
       "array([[1, 2, 3, 4],\n",
       "       [3, 4, 5, 6],\n",
       "       [6, 7, 8, 9]])"
      ]
     },
     "execution_count": 386,
     "metadata": {},
     "output_type": "execute_result"
    }
   ],
   "source": [
    "a = np.array([[1,2,3,4],\n",
    "              [3,4,5,6],\n",
    "              [6,7,8,9]])\n",
    "a"
   ]
  },
  {
   "cell_type": "code",
   "execution_count": 388,
   "id": "a8ac8a02-1ed3-4898-833d-5ad7ec4b505c",
   "metadata": {},
   "outputs": [
    {
     "data": {
      "text/plain": [
       "array([[1, 2],\n",
       "       [3, 4],\n",
       "       [3, 4],\n",
       "       [5, 6],\n",
       "       [6, 7],\n",
       "       [8, 9]])"
      ]
     },
     "execution_count": 388,
     "metadata": {},
     "output_type": "execute_result"
    }
   ],
   "source": [
    "a.reshape(6,2)"
   ]
  },
  {
   "cell_type": "code",
   "execution_count": 390,
   "id": "70a77ba4-d3d0-44a8-84f3-5d2039b8a404",
   "metadata": {},
   "outputs": [
    {
     "data": {
      "text/plain": [
       "array([[1, 3, 6],\n",
       "       [2, 4, 7],\n",
       "       [3, 5, 8],\n",
       "       [4, 6, 9]])"
      ]
     },
     "execution_count": 390,
     "metadata": {},
     "output_type": "execute_result"
    }
   ],
   "source": [
    "a.T"
   ]
  },
  {
   "cell_type": "markdown",
   "id": "cbbe5e5c-5000-4a17-9e86-460ccc36ea64",
   "metadata": {},
   "source": [
    "<h2> Indexing and slicing </h2>"
   ]
  },
  {
   "cell_type": "code",
   "execution_count": 238,
   "id": "08639348-88c9-46b6-aa6b-ace864096fa9",
   "metadata": {},
   "outputs": [],
   "source": [
    "a = np.array([[1,2,3,4],\n",
    "              [3,4,5,6],\n",
    "              [6,7,8,9]])"
   ]
  },
  {
   "cell_type": "code",
   "execution_count": 224,
   "id": "a30eb153-c083-4800-a45d-21a38347299d",
   "metadata": {},
   "outputs": [
    {
     "data": {
      "text/plain": [
       "array([[3, 4, 5, 6],\n",
       "       [6, 7, 8, 9]])"
      ]
     },
     "execution_count": 224,
     "metadata": {},
     "output_type": "execute_result"
    }
   ],
   "source": [
    "a[1:3]"
   ]
  },
  {
   "cell_type": "code",
   "execution_count": 228,
   "id": "2390aa50-bc84-4745-91a0-6faa4fd79a37",
   "metadata": {},
   "outputs": [
    {
     "data": {
      "text/plain": [
       "array([2, 4, 7])"
      ]
     },
     "execution_count": 228,
     "metadata": {},
     "output_type": "execute_result"
    }
   ],
   "source": [
    "a[:,1]"
   ]
  },
  {
   "cell_type": "code",
   "execution_count": 230,
   "id": "b7fbf2be-0b44-40c9-be4d-f8299faea628",
   "metadata": {},
   "outputs": [
    {
     "data": {
      "text/plain": [
       "array([[2],\n",
       "       [4],\n",
       "       [7]])"
      ]
     },
     "execution_count": 230,
     "metadata": {},
     "output_type": "execute_result"
    }
   ],
   "source": [
    "a[:, [1]]"
   ]
  },
  {
   "cell_type": "code",
   "execution_count": 278,
   "id": "9b1e7ef3-191f-494f-a5fe-14c5025de519",
   "metadata": {},
   "outputs": [
    {
     "data": {
      "text/plain": [
       "array([[3, 4],\n",
       "       [5, 6]])"
      ]
     },
     "execution_count": 278,
     "metadata": {},
     "output_type": "execute_result"
    }
   ],
   "source": [
    "a[0:2,2:]"
   ]
  },
  {
   "cell_type": "code",
   "execution_count": 280,
   "id": "4cf62adc-bffb-4f2c-8445-af11c93fb528",
   "metadata": {},
   "outputs": [
    {
     "data": {
      "text/plain": [
       "array([1, 2, 3, 4, 3, 4])"
      ]
     },
     "execution_count": 280,
     "metadata": {},
     "output_type": "execute_result"
    }
   ],
   "source": [
    "a[a<5]"
   ]
  },
  {
   "cell_type": "markdown",
   "id": "d31d5823-e57c-4d19-8f8d-c61cdcf4847f",
   "metadata": {},
   "source": [
    "<h2> creating an array from existing data </h2>"
   ]
  },
  {
   "cell_type": "code",
   "execution_count": 303,
   "id": "791f48b6-b8a4-473f-b5fd-df377163764d",
   "metadata": {},
   "outputs": [],
   "source": [
    "x = np.array([[1,2,3,4,5,6],\n",
    "             [4,5,6,7,8,9]])"
   ]
  },
  {
   "cell_type": "code",
   "execution_count": 309,
   "id": "da173833-dc01-4b5d-bed5-c31188804881",
   "metadata": {},
   "outputs": [
    {
     "data": {
      "text/plain": [
       "array([4, 5, 6])"
      ]
     },
     "execution_count": 309,
     "metadata": {},
     "output_type": "execute_result"
    }
   ],
   "source": [
    "#slicing\n",
    "x[1,:3]"
   ]
  },
  {
   "cell_type": "code",
   "execution_count": 311,
   "id": "90bf6223-6bbb-4e6d-a976-76c37e4c98f1",
   "metadata": {},
   "outputs": [],
   "source": [
    "y =np.array([[1,2,3,4,5,6],\n",
    "             [4,5,6,7,8,9],\n",
    "             [4,5,6,7,8,9]])"
   ]
  },
  {
   "cell_type": "code",
   "execution_count": 319,
   "id": "84be578a-bcb9-4ef4-b746-4be82cefa4e6",
   "metadata": {},
   "outputs": [
    {
     "data": {
      "text/plain": [
       "array([[1, 2, 3, 4, 5, 6],\n",
       "       [4, 5, 6, 7, 8, 9],\n",
       "       [1, 2, 3, 4, 5, 6],\n",
       "       [4, 5, 6, 7, 8, 9],\n",
       "       [4, 5, 6, 7, 8, 9]])"
      ]
     },
     "execution_count": 319,
     "metadata": {},
     "output_type": "execute_result"
    }
   ],
   "source": [
    "xx=np.vstack([x,y])\n",
    "xx"
   ]
  },
  {
   "cell_type": "code",
   "execution_count": 330,
   "id": "48b1c25c-c4b0-4e38-998c-780da6238c20",
   "metadata": {},
   "outputs": [
    {
     "data": {
      "text/plain": [
       "array([1, 2, 2, 4, 4, 5])"
      ]
     },
     "execution_count": 330,
     "metadata": {},
     "output_type": "execute_result"
    }
   ],
   "source": [
    "a =np.array([1,2])\n",
    "b = np.array([2,4,4,5])\n",
    "np.hstack([a,b])"
   ]
  },
  {
   "cell_type": "code",
   "execution_count": 350,
   "id": "2f5241c6-4f8e-4c3c-994a-daf3cfeed500",
   "metadata": {},
   "outputs": [
    {
     "data": {
      "text/plain": [
       "array([[0, 1, 2, 3, 4],\n",
       "       [5, 6, 7, 8, 9]])"
      ]
     },
     "execution_count": 350,
     "metadata": {},
     "output_type": "execute_result"
    }
   ],
   "source": [
    "xx = np.arange(10).reshape(2,5)\n",
    "xx"
   ]
  },
  {
   "cell_type": "code",
   "execution_count": 352,
   "id": "91e3edc8-78a1-41aa-913d-1b29ff8cf394",
   "metadata": {},
   "outputs": [
    {
     "data": {
      "text/plain": [
       "array([[0, 1, 2, 3, 4],\n",
       "       [5, 6, 7, 8, 9]])"
      ]
     },
     "execution_count": 352,
     "metadata": {},
     "output_type": "execute_result"
    }
   ],
   "source": [
    "xx.copy()"
   ]
  },
  {
   "cell_type": "markdown",
   "id": "2a2eb8d0-8799-4dbd-a0c7-5e13a2ed1ab0",
   "metadata": {},
   "source": [
    "<h2> Operations </h2>"
   ]
  },
  {
   "cell_type": "code",
   "execution_count": 368,
   "id": "097d3ffa-9051-48cb-b6b7-bf6a2f2f226a",
   "metadata": {},
   "outputs": [
    {
     "data": {
      "text/plain": [
       "10"
      ]
     },
     "execution_count": 368,
     "metadata": {},
     "output_type": "execute_result"
    }
   ],
   "source": [
    "a = np.array([1,2,3,4])\n",
    "a.sum()"
   ]
  },
  {
   "cell_type": "code",
   "execution_count": 370,
   "id": "93f3331c-b176-4043-9c64-0a41a5ccdc73",
   "metadata": {},
   "outputs": [],
   "source": [
    "b = np.array([5,6,7,8])"
   ]
  },
  {
   "cell_type": "code",
   "execution_count": 372,
   "id": "76b94952-369a-47fd-a75e-bf3ce1f03abb",
   "metadata": {},
   "outputs": [
    {
     "data": {
      "text/plain": [
       "array([ 6,  8, 10, 12])"
      ]
     },
     "execution_count": 372,
     "metadata": {},
     "output_type": "execute_result"
    }
   ],
   "source": [
    "a+b"
   ]
  },
  {
   "cell_type": "code",
   "execution_count": 374,
   "id": "9e5a7ab5-45ff-4d9d-8896-b5685fba0f0f",
   "metadata": {},
   "outputs": [
    {
     "data": {
      "text/plain": [
       "10"
      ]
     },
     "execution_count": 374,
     "metadata": {},
     "output_type": "execute_result"
    }
   ],
   "source": [
    "x = np.array([[1,2],\n",
    "             [3,4]])\n",
    "x.sum()"
   ]
  },
  {
   "cell_type": "code",
   "execution_count": 376,
   "id": "8a3efe44-2ca8-4bd5-9972-d9b0f2d24637",
   "metadata": {},
   "outputs": [
    {
     "data": {
      "text/plain": [
       "array([4, 6])"
      ]
     },
     "execution_count": 376,
     "metadata": {},
     "output_type": "execute_result"
    }
   ],
   "source": [
    "x.sum(axis=0)"
   ]
  },
  {
   "cell_type": "code",
   "execution_count": 392,
   "id": "bd379ed6-997b-4e69-85e0-415466689a28",
   "metadata": {},
   "outputs": [
    {
     "data": {
      "text/plain": [
       "array([3, 7])"
      ]
     },
     "execution_count": 392,
     "metadata": {},
     "output_type": "execute_result"
    }
   ],
   "source": [
    "x.sum(axis=1)"
   ]
  },
  {
   "cell_type": "code",
   "execution_count": 394,
   "id": "cbee4053-9a1e-43f1-ac0f-2593d1067ca5",
   "metadata": {},
   "outputs": [
    {
     "data": {
      "text/plain": [
       "4"
      ]
     },
     "execution_count": 394,
     "metadata": {},
     "output_type": "execute_result"
    }
   ],
   "source": [
    "x.max()"
   ]
  },
  {
   "cell_type": "code",
   "execution_count": 396,
   "id": "70771acb-ba51-4a3c-9e23-e7b5b2c059d5",
   "metadata": {},
   "outputs": [
    {
     "data": {
      "text/plain": [
       "1"
      ]
     },
     "execution_count": 396,
     "metadata": {},
     "output_type": "execute_result"
    }
   ],
   "source": [
    "x.min()"
   ]
  },
  {
   "cell_type": "code",
   "execution_count": null,
   "id": "d78cc6c7-3d2d-464e-b6cf-1cec8dafef33",
   "metadata": {},
   "outputs": [],
   "source": []
  },
  {
   "cell_type": "code",
   "execution_count": null,
   "id": "62b33783-1d08-4997-a3ed-074347abf0a3",
   "metadata": {},
   "outputs": [],
   "source": []
  },
  {
   "cell_type": "code",
   "execution_count": null,
   "id": "bda1c6d6-c575-41b6-9e15-44d89fc4ab21",
   "metadata": {},
   "outputs": [],
   "source": []
  },
  {
   "cell_type": "code",
   "execution_count": null,
   "id": "299b2bfd-48e2-4ad5-8511-67fe33a93238",
   "metadata": {},
   "outputs": [],
   "source": []
  },
  {
   "cell_type": "code",
   "execution_count": null,
   "id": "96a048c7-6255-48c9-8b32-9cbb96f82f9a",
   "metadata": {},
   "outputs": [],
   "source": []
  },
  {
   "cell_type": "code",
   "execution_count": null,
   "id": "d2b7b6d2-256d-4899-8c3b-479323982750",
   "metadata": {},
   "outputs": [],
   "source": []
  },
  {
   "cell_type": "code",
   "execution_count": null,
   "id": "4f8b8566-7bdd-4596-bad7-47821ac795eb",
   "metadata": {},
   "outputs": [],
   "source": []
  },
  {
   "cell_type": "code",
   "execution_count": null,
   "id": "cde452c8-bb39-411b-ae0e-0d5382a87cb6",
   "metadata": {},
   "outputs": [],
   "source": []
  },
  {
   "cell_type": "code",
   "execution_count": null,
   "id": "ed5813ce-4e19-4be3-9a38-c034477f5e41",
   "metadata": {},
   "outputs": [],
   "source": []
  },
  {
   "cell_type": "code",
   "execution_count": null,
   "id": "fdaa0e41-57a1-4e59-be9b-c00aee1e6852",
   "metadata": {},
   "outputs": [],
   "source": []
  }
 ],
 "metadata": {
  "kernelspec": {
   "display_name": "Python 3 (ipykernel)",
   "language": "python",
   "name": "python3"
  },
  "language_info": {
   "codemirror_mode": {
    "name": "ipython",
    "version": 3
   },
   "file_extension": ".py",
   "mimetype": "text/x-python",
   "name": "python",
   "nbconvert_exporter": "python",
   "pygments_lexer": "ipython3",
   "version": "3.12.7"
  }
 },
 "nbformat": 4,
 "nbformat_minor": 5
}
